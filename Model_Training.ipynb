{
 "cells": [
  {
   "cell_type": "code",
   "execution_count": 3,
   "metadata": {
    "collapsed": true
   },
   "outputs": [],
   "source": [
    "import logging\n",
    "logging.basicConfig(level=logging.INFO, format='%(asctime)s : %(levelname)s : %(message)s',)"
   ]
  },
  {
   "cell_type": "code",
   "execution_count": 4,
   "metadata": {
    "collapsed": true
   },
   "outputs": [],
   "source": [
    "import os,os.path\n",
    "import gensim,re "
   ]
  },
  {
   "cell_type": "code",
   "execution_count": 5,
   "metadata": {
    "collapsed": true
   },
   "outputs": [],
   "source": [
    "class MySentences(object):\n",
    "    def __init__(self, dirname):\n",
    "        self.dirname = dirname\n",
    " \n",
    "    def __iter__(self):\n",
    "        for each in os.listdir(self.dirname):\n",
    "            if each != '.DS_Store':\n",
    "                logging.info('INITIATED: Processing sentences for '+each)\n",
    "                with open(os.path.join(self.dirname,each,'sentences.txt'),'r') as fin:\n",
    "                    for line in fin:\n",
    "                        review_text = re.sub(\"[^a-zA-Z]\",\" \",line)\n",
    "                        yield review_text.split()"
   ]
  },
  {
   "cell_type": "code",
   "execution_count": 6,
   "metadata": {
    "collapsed": true
   },
   "outputs": [],
   "source": [
    "sentences = MySentences('/Volumes/Seagate Expansion Drive/stack/sentences')"
   ]
  },
  {
   "cell_type": "code",
   "execution_count": 7,
   "metadata": {
    "collapsed": false
   },
   "outputs": [],
   "source": [
    "from collections import defaultdict\n",
    "d = defaultdict(lambda : 0)\n",
    "for each in sentences:\n",
    "    d[len(each)] += 1"
   ]
  },
  {
   "cell_type": "code",
   "execution_count": 8,
   "metadata": {
    "collapsed": false
   },
   "outputs": [],
   "source": [
    "#Identifying proper context parameter for word2vec model training.\n",
    "import operator\n",
    "d = dict(sorted(d.items(), key=operator.itemgetter(1), reverse=True)[:10])\n",
    "\n",
    "import matplotlib.pyplot as plt\n",
    "\n",
    "plt.bar(range(len(d)), d.values(), align='center')\n",
    "plt.xticks(range(len(d)), d.keys())\n",
    "plt.ylabel(\"Number of sentences\")\n",
    "plt.xlabel(\"Number of words in that sentence\")\n",
    "plt.savefig('context.jpg')\n",
    "plt.show()"
   ]
  },
  {
   "cell_type": "code",
   "execution_count": null,
   "metadata": {
    "collapsed": false
   },
   "outputs": [],
   "source": [
    "# Set values for various parameters\n",
    "#size = 300             # Word vector dimensionality                      \n",
    "#min_count = 10         # Minimum word count                        \n",
    "#workers = 4            # Number of threads to run in parallel\n",
    "#window = 15           # Context window size                                                                                    \n",
    "#sample = 1e-3          # Downsample setting for frequent words\n",
    "\n",
    "\n",
    "model = gensim.models.Word2Vec(sentences,  workers=4, size=300, min_count = 1, window = 15, sample = 1e-3)"
   ]
  },
  {
   "cell_type": "code",
   "execution_count": null,
   "metadata": {
    "collapsed": true
   },
   "outputs": [],
   "source": [
    "# save the model for later use. You can load it later using Word2Vec.load()\n",
    "model_name = \"stackexchange_model\"\n",
    "model.save(model_name)"
   ]
  },
  {
   "cell_type": "code",
   "execution_count": 6,
   "metadata": {
    "collapsed": false
   },
   "outputs": [
    {
     "name": "stdout",
     "output_type": "stream",
     "text": [
      "500288\n"
     ]
    }
   ],
   "source": [
    "print(len(model.wv.vocab))"
   ]
  },
  {
   "cell_type": "code",
   "execution_count": 7,
   "metadata": {
    "collapsed": false
   },
   "outputs": [
    {
     "name": "stderr",
     "output_type": "stream",
     "text": [
      "/Users/prateekgupta/anaconda/lib/python3.5/site-packages/ipykernel/__main__.py:2: DeprecationWarning: Call to deprecated `doesnt_match` (Method will be removed in 4.0.0, use self.wv.doesnt_match() instead).\n",
      "  from ipykernel import kernelapp as app\n"
     ]
    },
    {
     "name": "stdout",
     "output_type": "stream",
     "text": [
      "html\n",
      "html\n",
      "server\n",
      "big\n",
      "training\n"
     ]
    },
    {
     "name": "stderr",
     "output_type": "stream",
     "text": [
      "/Users/prateekgupta/anaconda/lib/python3.5/site-packages/ipykernel/__main__.py:3: DeprecationWarning: Call to deprecated `doesnt_match` (Method will be removed in 4.0.0, use self.wv.doesnt_match() instead).\n",
      "  app.launch_new_instance()\n",
      "/Users/prateekgupta/anaconda/lib/python3.5/site-packages/ipykernel/__main__.py:4: DeprecationWarning: Call to deprecated `doesnt_match` (Method will be removed in 4.0.0, use self.wv.doesnt_match() instead).\n",
      "/Users/prateekgupta/anaconda/lib/python3.5/site-packages/ipykernel/__main__.py:5: DeprecationWarning: Call to deprecated `doesnt_match` (Method will be removed in 4.0.0, use self.wv.doesnt_match() instead).\n",
      "/Users/prateekgupta/anaconda/lib/python3.5/site-packages/ipykernel/__main__.py:6: DeprecationWarning: Call to deprecated `doesnt_match` (Method will be removed in 4.0.0, use self.wv.doesnt_match() instead).\n"
     ]
    }
   ],
   "source": [
    "#Odd one out.\n",
    "print(model.doesnt_match(\"java html javascript\".split()))\n",
    "print(model.doesnt_match(\"java python html javascript\".split()))\n",
    "print(model.doesnt_match(\"server linux windows redhat\".split()))\n",
    "print(model.doesnt_match(\"cool hot big\".split()))\n",
    "print(model.doesnt_match(\"internship job training\".split()))"
   ]
  },
  {
   "cell_type": "code",
   "execution_count": 9,
   "metadata": {
    "collapsed": false
   },
   "outputs": [
    {
     "name": "stderr",
     "output_type": "stream",
     "text": [
      "/Users/prateekgupta/anaconda/lib/python3.5/site-packages/ipykernel/__main__.py:2: DeprecationWarning: Call to deprecated `most_similar` (Method will be removed in 4.0.0, use self.wv.most_similar() instead).\n",
      "  from ipykernel import kernelapp as app\n",
      "/Users/prateekgupta/anaconda/lib/python3.5/site-packages/ipykernel/__main__.py:4: DeprecationWarning: Call to deprecated `most_similar` (Method will be removed in 4.0.0, use self.wv.most_similar() instead).\n",
      "/Users/prateekgupta/anaconda/lib/python3.5/site-packages/ipykernel/__main__.py:6: DeprecationWarning: Call to deprecated `most_similar` (Method will be removed in 4.0.0, use self.wv.most_similar() instead).\n"
     ]
    },
    {
     "name": "stdout",
     "output_type": "stream",
     "text": [
      "[('girl', 0.5888519287109375)]\n",
      "[('javax', 0.4594131112098694)]\n",
      "[('australia', 0.7083268165588379)]\n",
      "[('her', 0.7438216209411621)]\n",
      "[('macos', 0.45301273465156555)]\n"
     ]
    },
    {
     "name": "stderr",
     "output_type": "stream",
     "text": [
      "/Users/prateekgupta/anaconda/lib/python3.5/site-packages/ipykernel/__main__.py:8: DeprecationWarning: Call to deprecated `most_similar` (Method will be removed in 4.0.0, use self.wv.most_similar() instead).\n",
      "/Users/prateekgupta/anaconda/lib/python3.5/site-packages/ipykernel/__main__.py:10: DeprecationWarning: Call to deprecated `most_similar` (Method will be removed in 4.0.0, use self.wv.most_similar() instead).\n"
     ]
    }
   ],
   "source": [
    "#man is to women as king is to ______\n",
    "print(model.most_similar(positive=['woman', 'king'], negative=['man'], topn=1))\n",
    "#css is to html as java is to _______\n",
    "print(model.most_similar(positive=['java', 'html'], negative=['css'], topn=1))\n",
    "#berlin is to germany as paris is to _________\n",
    "print(model.most_similar(positive=['paris', 'germany'], negative=['berlin'], topn=1))\n",
    "#he is to his as she is to _______\n",
    "print(model.most_similar(positive=['she', 'his'], negative=['he'], topn=1))\n",
    "#windows is to microsoft as osx is to __________\n",
    "print(model.most_similar(positive=['osx', 'microsoft'], negative=['windows'], topn=1))"
   ]
  },
  {
   "cell_type": "code",
   "execution_count": 10,
   "metadata": {
    "collapsed": false
   },
   "outputs": [
    {
     "name": "stdout",
     "output_type": "stream",
     "text": [
      "0.16545880644369185\n",
      "0.2580398058155402\n",
      "0.4019029952406972\n",
      "0.30545856857803705\n"
     ]
    },
    {
     "name": "stderr",
     "output_type": "stream",
     "text": [
      "/Users/prateekgupta/anaconda/lib/python3.5/site-packages/ipykernel/__main__.py:1: DeprecationWarning: Call to deprecated `similarity` (Method will be removed in 4.0.0, use self.wv.similarity() instead).\n",
      "  if __name__ == '__main__':\n",
      "/Users/prateekgupta/anaconda/lib/python3.5/site-packages/ipykernel/__main__.py:2: DeprecationWarning: Call to deprecated `similarity` (Method will be removed in 4.0.0, use self.wv.similarity() instead).\n",
      "  from ipykernel import kernelapp as app\n",
      "/Users/prateekgupta/anaconda/lib/python3.5/site-packages/ipykernel/__main__.py:3: DeprecationWarning: Call to deprecated `similarity` (Method will be removed in 4.0.0, use self.wv.similarity() instead).\n",
      "  app.launch_new_instance()\n",
      "/Users/prateekgupta/anaconda/lib/python3.5/site-packages/ipykernel/__main__.py:4: DeprecationWarning: Call to deprecated `similarity` (Method will be removed in 4.0.0, use self.wv.similarity() instead).\n"
     ]
    }
   ],
   "source": [
    "print(model.similarity('wallet','android'))\n",
    "print(model.similarity('wallet','purse'))\n",
    "print(model.similarity('windows','microsoft'))\n",
    "print(model.similarity('cyanogenmod','android'))"
   ]
  },
  {
   "cell_type": "code",
   "execution_count": 5,
   "metadata": {
    "collapsed": false
   },
   "outputs": [],
   "source": [
    "model = gensim.models.Word2Vec.load('stackexchange_model')\n",
    "#model.train(more_sentences)"
   ]
  },
  {
   "cell_type": "code",
   "execution_count": null,
   "metadata": {
    "collapsed": true
   },
   "outputs": [],
   "source": []
  }
 ],
 "metadata": {
  "anaconda-cloud": {},
  "kernelspec": {
   "display_name": "Python [anaconda]",
   "language": "python",
   "name": "Python [anaconda]"
  },
  "language_info": {
   "codemirror_mode": {
    "name": "ipython",
    "version": 3
   },
   "file_extension": ".py",
   "mimetype": "text/x-python",
   "name": "python",
   "nbconvert_exporter": "python",
   "pygments_lexer": "ipython3",
   "version": "3.5.5"
  }
 },
 "nbformat": 4,
 "nbformat_minor": 0
}
